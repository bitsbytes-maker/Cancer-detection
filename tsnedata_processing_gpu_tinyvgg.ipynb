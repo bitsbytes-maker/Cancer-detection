{
 "cells": [
  {
   "cell_type": "code",
   "execution_count": 1,
   "metadata": {
    "colab": {
     "base_uri": "https://localhost:8080/"
    },
    "id": "Nos4S1GEDU4n",
    "notebookRunGroups": {
     "groupValue": ""
    },
    "outputId": "dfbad213-a307-4b91-ccef-c2825a6c3a09"
   },
   "outputs": [
    {
     "data": {
      "text/plain": [
       "0"
      ]
     },
     "execution_count": 1,
     "metadata": {},
     "output_type": "execute_result"
    }
   ],
   "source": [
    "import os\n",
    "\n",
    "os.system('del tsne0.txt')"
   ]
  },
  {
   "cell_type": "code",
   "execution_count": 2,
   "metadata": {
    "id": "tOGb9xrUDTcS",
    "notebookRunGroups": {
     "groupValue": "1"
    }
   },
   "outputs": [
    {
     "name": "stdout",
     "output_type": "stream",
     "text": [
      "['0.txt', '1.txt', '2.txt']\n",
      "3\n",
      "['0', '1', '2']\n"
     ]
    }
   ],
   "source": [
    "import glob\n",
    "\n",
    "files = glob.glob('*.txt')\n",
    "\n",
    "print(files)\n",
    "print(len(files))\n",
    "\n",
    "\n",
    "unique_labels= []\n",
    "\n",
    "for file in files:\n",
    "    unique_labels.append(str(file[:-4]))\n",
    "\n",
    "\n",
    "print(unique_labels)\n"
   ]
  },
  {
   "cell_type": "code",
   "execution_count": 3,
   "metadata": {
    "colab": {
     "base_uri": "https://localhost:8080/"
    },
    "id": "4VaWzMQgDTcV",
    "notebookRunGroups": {
     "groupValue": "1"
    },
    "outputId": "b2f74d7f-1fde-499f-dd76-a0fe1f48a15d"
   },
   "outputs": [
    {
     "name": "stdout",
     "output_type": "stream",
     "text": [
      "['0.txt', '1.txt', '2.txt']\n",
      "3\n"
     ]
    }
   ],
   "source": [
    "readfiles = files\n",
    "\n",
    "# 'range_doppler_soil_beneath_paper_no_angle2.txt', 'range_doppler_soil_beneath_paper_no_angle1.txt', \n",
    "\n",
    "\n",
    "# 'range_doppler_soil_no_angle2.txt', 'range_doppler_soil_no_angle1.txt',\n",
    "# 'range_doppler_soil_plastic_no_angle1.txt', 'range_doppler_soil_plastic_no_angle2.txt',\n",
    "# 'range_doppler_soil_upper_paper_no_angle1.txt', 'range_doppler_soil_upper_paper_no_angle2.txt']\n",
    "# 8\n",
    "\n",
    "\n",
    "print(readfiles)\n",
    "print(len(readfiles))"
   ]
  },
  {
   "cell_type": "code",
   "execution_count": 4,
   "metadata": {
    "id": "X25ac0-N6-9D",
    "notebookRunGroups": {
     "groupValue": ""
    }
   },
   "outputs": [
    {
     "name": "stdout",
     "output_type": "stream",
     "text": [
      "(5407899648, 6441926656)\n"
     ]
    }
   ],
   "source": [
    "import torch\n",
    "print(torch.cuda.mem_get_info())"
   ]
  },
  {
   "cell_type": "code",
   "execution_count": 5,
   "metadata": {},
   "outputs": [
    {
     "name": "stdout",
     "output_type": "stream",
     "text": [
      "(1144, 512)\n",
      "[0, 263, 799, 1144]\n"
     ]
    }
   ],
   "source": [
    "import numpy as np\n",
    "\n",
    "list_array = []\n",
    "values = [0]\n",
    "sum = 0\n",
    "for file in readfiles:\n",
    "    arr = np.loadtxt(file)\n",
    "    r,c = arr.shape\n",
    "    sum += r\n",
    "    list_array.append(arr)\n",
    "    values.append(sum)\n",
    "\n",
    "\n",
    "\n",
    "\n",
    "features = np.concatenate(list_array,axis=0)\n",
    "print(features.shape)\n",
    "print(values)"
   ]
  },
  {
   "cell_type": "code",
   "execution_count": null,
   "metadata": {},
   "outputs": [],
   "source": []
  },
  {
   "cell_type": "code",
   "execution_count": 6,
   "metadata": {},
   "outputs": [
    {
     "name": "stdout",
     "output_type": "stream",
     "text": [
      "(5407899648, 6441926656)\n",
      "5.0364990234375\n",
      "5.99951171875\n"
     ]
    }
   ],
   "source": [
    "import torch\n",
    "print(torch.cuda.mem_get_info())\n",
    "\n",
    "torch.cuda.empty_cache()\n",
    "\n",
    "ttl_gb, avl_gb = torch.cuda.mem_get_info()\n",
    "\n",
    "print(ttl_gb/1024**3)\n",
    "print(avl_gb/1024**3)"
   ]
  },
  {
   "cell_type": "code",
   "execution_count": 7,
   "metadata": {
    "id": "bO-i7Irq-CN3"
   },
   "outputs": [
    {
     "name": "stdout",
     "output_type": "stream",
     "text": [
      "[0, 263, 799, 1144]\n",
      "0\n",
      "[2, 2, 2, 2, 2, 2, 2, 2, 2, 2, 2, 2, 2, 2, 2, 2, 2, 2, 2, 2, 2, 2, 2, 2, 2, 2, 2, 2, 2, 2, 2, 2, 2, 2, 2, 2, 2, 2, 2, 2, 2, 2, 2, 2, 2, 2, 2, 2, 2, 2, 2, 2, 2, 2, 2, 2, 2, 2, 2, 2, 2, 2, 2, 2, 2, 2, 2, 2, 2, 2, 2, 2, 2, 2, 2, 2, 2, 2, 2, 2, 2, 2, 2, 2, 2, 2, 2, 2, 2, 2, 2, 2, 2, 2, 2, 2, 2, 2, 2, 2, 2, 2, 2, 2, 2, 2, 2, 2, 2, 2, 2, 2, 2, 2, 2, 2, 2, 2, 2, 2, 2, 2, 2, 2, 2, 2, 2, 2, 2, 2, 2, 2, 2, 2, 2, 2, 2, 2, 2, 2, 2, 2, 2, 2, 2, 2, 2, 2, 2, 2, 2, 2, 2, 2, 2, 2, 2, 2, 2, 2, 2, 2, 2, 2, 2, 2, 2, 2, 2, 2, 2, 2, 2, 2, 2, 2, 2, 2, 2, 2, 2, 2, 2, 2, 2, 2, 2, 2, 2, 2, 2, 2, 2, 2, 2, 2, 2, 2, 2, 2, 2, 2, 2, 2, 2, 2, 2, 2, 2, 2, 2, 2, 2, 2, 2, 2, 2, 2, 2, 2, 2, 2, 2, 2, 2, 2, 2, 2, 2, 2, 2, 2, 2, 2, 2, 2, 2, 2, 2, 2, 2, 2, 2, 2, 2, 2, 2, 2, 2, 2, 2, 2, 2, 2, 2, 2, 2, 2, 2, 2, 2, 2, 2, 2, 2, 2, 2, 2, 2, 2, 2, 2, 2, 2, 2, 2, 2, 2, 2, 2, 2, 2, 2, 2, 2, 2, 2, 2, 2, 2, 2, 2, 2, 2, 2, 2, 2, 2, 2, 2, 2, 2, 2, 2, 2, 2, 2, 2, 2, 2, 2, 2, 2, 2, 2, 2, 2, 2, 2, 2, 2, 2, 2, 2, 2, 2, 2, 2, 2, 2, 2, 2, 2, 2, 2, 2, 2, 2, 2, 2, 2, 2, 2, 2, 2]\n",
      "tensor([0, 0, 0,  ..., 2, 2, 2])\n"
     ]
    }
   ],
   "source": [
    "import torch\n",
    "\n",
    "print(values)\n",
    "\n",
    "\n",
    "labels_list = []\n",
    "\n",
    "for i in range(len(values)-1):\n",
    "    start,end = values[i],values[i+1]\n",
    "    \n",
    "    labels= [i for j in range(start,end)]\n",
    "    \n",
    "    labels_list+= labels\n",
    "    \n",
    "    \n",
    "    \n",
    "    \n",
    "print(labels_list.count(22))\n",
    "\n",
    "print(labels)\n",
    "\n",
    "labels = torch.tensor(labels_list)\n",
    "\n",
    "print(labels)"
   ]
  },
  {
   "cell_type": "code",
   "execution_count": 8,
   "metadata": {
    "colab": {
     "base_uri": "https://localhost:8080/",
     "height": 774
    },
    "id": "WmxN6IQVSGKg",
    "notebookRunGroups": {
     "groupValue": ""
    },
    "outputId": "5289e469-cbac-438c-b165-0a59cac0743d"
   },
   "outputs": [
    {
     "name": "stdout",
     "output_type": "stream",
     "text": [
      "*******************************************************************\n",
      "*******************************************************************\n",
      "*******************************************************************\n",
      "*******************************************************************\n",
      "3\n",
      "['Red', 'Blue', 'Green']\n"
     ]
    },
    {
     "data": {
      "image/png": "[encoded data removed]",
      "text/plain": [
       "<Figure size 640x480 with 2 Axes>"
      ]
     },
     "metadata": {},
     "output_type": "display_data"
    }
   ],
   "source": [
    "from torch.nn.modules.conv import ConvTranspose3d\n",
    "import torch\n",
    "import torch.nn as nn\n",
    "import torch.nn.functional as F\n",
    "# import torchvision\n",
    "# import torchvision.transforms as transforms\n",
    "import matplotlib.pyplot as plt\n",
    "import numpy as np\n",
    "import matplotlib.colors as mcolors\n",
    "\n",
    "from sklearn.manifold import TSNE\n",
    "from matplotlib.colors import ListedColormap\n",
    "\n",
    "\n",
    "\n",
    "\n",
    "def makingPlots_and_save_text(i):\n",
    "    # Create an instance of the LeNet-5 features model\n",
    "    \n",
    "    \n",
    "\n",
    "\n",
    "\n",
    "\n",
    "\n",
    "    print('*******************************************************************')\n",
    "    print('*******************************************************************')\n",
    "    print('*******************************************************************')\n",
    "    print('*******************************************************************')\n",
    "\n",
    "\n",
    "\n",
    "\n",
    "\n",
    "   \n",
    "\n",
    "    \n",
    "\n",
    "    # Assuming `labels` is a list of label names corresponding to each data point\n",
    "    \n",
    "\n",
    "    # Define a colormap with distinct colors\n",
    "    num_labels = len(unique_labels)\n",
    "    print(num_labels)\n",
    "    \n",
    "    \n",
    "    colors = [\"Red\", \"Blue\", \"Green\"] \n",
    "    \n",
    "    #, \"Yellow\", \"Orange\", \"Purple\", \"Pink\", \"Brown\", \"Black\", \"olive\",\n",
    "         # \"Gray\"]\n",
    "    \n",
    "  \n",
    "\n",
    "    \n",
    "\n",
    "\n",
    "    print(colors)\n",
    "\n",
    "  \n",
    "\n",
    "    \n",
    "    custom_cmap = ListedColormap(colors)\n",
    "\n",
    "    tsne = TSNE(n_components=2,random_state = 42, n_jobs=-1)\n",
    "    tsne_features = tsne.fit_transform(features)\n",
    "\n",
    "    # Create a scatter plot with custom colormap\n",
    "    scatter = plt.scatter(tsne_features[:, 0], tsne_features[:, 1], c=labels, cmap=custom_cmap)\n",
    "\n",
    "    # Create a colorbar with legend labels\n",
    "    cbar = plt.colorbar(scatter, ticks=range(num_labels))\n",
    "    cbar.ax.set_yticklabels(unique_labels)\n",
    "    \n",
    "\n",
    "    plt.xlabel('t-SNE Dimension 1')\n",
    "    plt.ylabel('t-SNE Dimension 2')\n",
    "    plt.title('t-SNE Visualization')\n",
    "\n",
    "    #plt.savefig('Data_v3_without_angle_plots_and_tsne_textfiles/tsne'+str(i)+'.png', bbox_inches = \"tight\")\n",
    "    np.savetxt('tsne'+str(i)+'.txt', tsne_features)\n",
    "    \n",
    "    #41 k\n",
    "\n",
    "\n",
    "makingPlots_and_save_text(0)\n",
    "    \n",
    "\n",
    "\n",
    "\n"
   ]
  },
  {
   "cell_type": "code",
   "execution_count": 9,
   "metadata": {},
   "outputs": [
    {
     "name": "stdout",
     "output_type": "stream",
     "text": [
      "tensor([0, 0, 0,  ..., 2, 2, 2])\n",
      "345\n"
     ]
    }
   ],
   "source": [
    "print(labels)\n",
    "\n",
    "print(list(labels).count(2))"
   ]
  },
  {
   "cell_type": "code",
   "execution_count": 10,
   "metadata": {},
   "outputs": [
    {
     "name": "stdout",
     "output_type": "stream",
     "text": [
      "[[ -4.78819847  29.62120628]\n",
      " [  2.87699723  33.09107971]\n",
      " [-12.28318119  29.55306053]\n",
      " ...\n",
      " [ 28.28869057   3.76733327]\n",
      " [ 37.64529037  -3.8694756 ]\n",
      " [ 34.21366501   1.9369843 ]]\n",
      "Accuracy: 100.00%\n"
     ]
    }
   ],
   "source": [
    "from sklearn.datasets import load_iris\n",
    "from sklearn.model_selection import train_test_split\n",
    "from sklearn.naive_bayes import GaussianNB\n",
    "from sklearn.metrics import accuracy_score\n",
    "import numpy as np\n",
    "\n",
    "# load the iris dataset as an example\n",
    "data = np.loadtxt('tsne0.txt')\n",
    "print(data)\n",
    "\n",
    "# split the data into a training set and a test set\n",
    "X_train, X_test, y_train, y_test = train_test_split(data, labels, test_size=0.3, random_state=0)\n",
    "\n",
    "# instantiate the model\n",
    "gnb = GaussianNB()\n",
    "\n",
    "# train the model\n",
    "gnb.fit(X_train, y_train)\n",
    "\n",
    "# make predictions\n",
    "y_predict_prob = gnb.predict_log_proba(X_test)\n",
    "y_pred = gnb.predict(X_test)\n",
    "\n",
    "# print the accuracy\n",
    "accuracy = accuracy_score(y_test, y_pred)\n",
    "print(\"Accuracy: %.2f%%\" % (accuracy * 100.0))\n"
   ]
  },
  {
   "cell_type": "code",
   "execution_count": 11,
   "metadata": {},
   "outputs": [
    {
     "name": "stdout",
     "output_type": "stream",
     "text": [
      "[[-5.33087441e+01 -1.29333530e+01 -2.41610999e-06]\n",
      " [-1.42108547e-14 -3.79374336e+01 -3.18795270e+01]\n",
      " [-4.65335129e+01 -1.27985910e+01 -2.76466903e-06]\n",
      " ...\n",
      " [-2.20350380e+02 -2.81374923e-12 -2.65962454e+01]\n",
      " [-3.55271368e-15 -3.79080913e+01 -3.33224240e+01]\n",
      " [-1.67258785e+02 -6.16007457e+00 -2.11432939e-03]]\n"
     ]
    }
   ],
   "source": [
    "print(y_predict_prob)"
   ]
  },
  {
   "cell_type": "code",
   "execution_count": null,
   "metadata": {},
   "outputs": [],
   "source": []
  },
  {
   "cell_type": "code",
   "execution_count": null,
   "metadata": {
    "colab": {
     "base_uri": "https://localhost:8080/"
    },
    "id": "NQONGyiJk-6d",
    "outputId": "a53fc1ca-7063-40cf-98e4-5340543fc409"
   },
   "outputs": [],
   "source": []
  },
  {
   "cell_type": "code",
   "execution_count": null,
   "metadata": {
    "colab": {
     "base_uri": "https://localhost:8080/"
    },
    "id": "f2MjefT-eS6b",
    "outputId": "b5d69d2e-141d-4cff-8089-da86ac83f143"
   },
   "outputs": [],
   "source": []
  },
  {
   "cell_type": "code",
   "execution_count": null,
   "metadata": {
    "colab": {
     "base_uri": "https://localhost:8080/",
     "height": 676
    },
    "id": "guWRwpOTDTcX",
    "outputId": "5aa4ae77-f2e0-4122-d10d-8274d75ec42d"
   },
   "outputs": [],
   "source": []
  },
  {
   "cell_type": "code",
   "execution_count": null,
   "metadata": {
    "id": "MC2DqRyNMyc_"
   },
   "outputs": [],
   "source": [
    "\n"
   ]
  },
  {
   "cell_type": "code",
   "execution_count": null,
   "metadata": {
    "id": "gzgadA5MM26d"
   },
   "outputs": [],
   "source": [
    "\n"
   ]
  },
  {
   "cell_type": "markdown",
   "metadata": {
    "id": "4-mdw4KxDTcY"
   },
   "source": []
  },
  {
   "cell_type": "code",
   "execution_count": null,
   "metadata": {
    "id": "TD9795hTNSMD"
   },
   "outputs": [],
   "source": []
  },
  {
   "cell_type": "code",
   "execution_count": null,
   "metadata": {
    "id": "0hMrflr5DTcc"
   },
   "outputs": [],
   "source": []
  },
  {
   "cell_type": "code",
   "execution_count": null,
   "metadata": {
    "id": "wje6RGULDTcc"
   },
   "outputs": [],
   "source": []
  },
  {
   "cell_type": "code",
   "execution_count": 12,
   "metadata": {
    "id": "xl7mHFrYDTcc",
    "outputId": "792f5ed6-2806-4e66-f6ed-cfee3c524610"
   },
   "outputs": [
    {
     "name": "stdout",
     "output_type": "stream",
     "text": [
      "fil\n"
     ]
    }
   ],
   "source": [
    "print('fil')"
   ]
  }
 ],
 "metadata": {
  "colab": {
   "provenance": []
  },
  "kernelspec": {
   "display_name": "Python 3",
   "language": "python",
   "name": "python3"
  },
  "language_info": {
   "codemirror_mode": {
    "name": "ipython",
    "version": 3
   },
   "file_extension": ".py",
   "mimetype": "text/x-python",
   "name": "python",
   "nbconvert_exporter": "python",
   "pygments_lexer": "ipython3",
   "version": "3.10.7"
  }
 },
 "nbformat": 4,
 "nbformat_minor": 4
}
